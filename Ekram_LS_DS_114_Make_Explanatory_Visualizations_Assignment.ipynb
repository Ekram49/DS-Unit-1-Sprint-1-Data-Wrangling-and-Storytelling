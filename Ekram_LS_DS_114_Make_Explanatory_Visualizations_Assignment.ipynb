{
  "nbformat": 4,
  "nbformat_minor": 0,
  "metadata": {
    "colab": {
      "name": "Ekram LS_DS_114_Make_Explanatory_Visualizations_Assignment.ipynb",
      "provenance": [],
      "collapsed_sections": [],
      "include_colab_link": true
    },
    "language_info": {
      "codemirror_mode": {
        "name": "ipython",
        "version": 3
      },
      "file_extension": ".py",
      "mimetype": "text/x-python",
      "name": "python",
      "nbconvert_exporter": "python",
      "pygments_lexer": "ipython3",
      "version": "3.7.1"
    },
    "kernelspec": {
      "display_name": "Python 3",
      "language": "python",
      "name": "python3"
    }
  },
  "cells": [
    {
      "cell_type": "markdown",
      "metadata": {
        "id": "view-in-github",
        "colab_type": "text"
      },
      "source": [
        "<a href=\"https://colab.research.google.com/github/Ekram49/DS-Unit-1-Sprint-1-Data-Wrangling-and-Storytelling/blob/master/Ekram_LS_DS_114_Make_Explanatory_Visualizations_Assignment.ipynb\" target=\"_parent\"><img src=\"https://colab.research.google.com/assets/colab-badge.svg\" alt=\"Open In Colab\"/></a>"
      ]
    },
    {
      "cell_type": "markdown",
      "metadata": {
        "colab_type": "text",
        "id": "NMEswXWh9mqw"
      },
      "source": [
        "Lambda School Data Science\n",
        "\n",
        "*Unit 1, Sprint 1, Module 4*\n",
        "\n",
        "---\n",
        "\n",
        "# ASSIGNMENT\n",
        "\n",
        "### 1) Replicate the lesson code. I recommend that you [do not copy-paste](https://docs.google.com/document/d/1ubOw9B3Hfip27hF2ZFnW3a3z9xAgrUDRReOEo-FHCVs/edit).\n",
        "\n",
        "Get caught up to where we got our example in class and then try and take things further. How close to \"pixel perfect\" can you make the lecture graph?\n",
        "\n",
        "Once you have something that you're proud of, share your graph in the cohort channel and move on to the second exercise.\n",
        "\n",
        "### 2) Reproduce another example from [FiveThityEight's shared data repository](https://data.fivethirtyeight.com/).\n",
        "\n",
        "**WARNING**: There are a lot of very custom graphs and tables at the above link. I **highly** recommend not trying to reproduce any that look like a table of values or something really different from the graph types that we are already familiar with. Search through the posts until you find a graph type that you are more or less familiar with: histogram, bar chart, stacked bar chart, line chart, [seaborn relplot](https://seaborn.pydata.org/generated/seaborn.relplot.html), etc. Recreating some of the graphics that 538 uses would be a lot easier in Adobe photoshop/illustrator than with matplotlib. \n",
        "\n",
        "- If you put in some time to find a graph that looks \"easy\" to replicate you'll probably find that it's not as easy as you thought. \n",
        "\n",
        "- If you start with a graph that looks hard to replicate you'll probably run up against a brick wall and be disappointed with your afternoon.\n",
        "\n",
        "\n",
        "\n",
        "\n",
        "\n",
        "\n",
        "\n",
        "\n",
        "\n",
        "\n"
      ]
    },
    {
      "cell_type": "code",
      "metadata": {
        "id": "7SY1ZHawyZvz",
        "colab_type": "code",
        "outputId": "717ae7e8-e12e-435f-e6fe-fe3f6f3392d4",
        "colab": {
          "base_uri": "https://localhost:8080/",
          "height": 355
        }
      },
      "source": [
        "# Your Work Here\n",
        "\n",
        "from IPython.display import display, Image\n",
        "\n",
        "url = 'https://fivethirtyeight.com/wp-content/uploads/2017/09/mehtahickey-inconvenient-0830-1.png'\n",
        "example = Image(url=url, width=400)\n",
        "\n",
        "display(example)"
      ],
      "execution_count": 2,
      "outputs": [
        {
          "output_type": "display_data",
          "data": {
            "text/html": [
              "<img src=\"https://fivethirtyeight.com/wp-content/uploads/2017/09/mehtahickey-inconvenient-0830-1.png\" width=\"400\"/>"
            ],
            "text/plain": [
              "<IPython.core.display.Image object>"
            ]
          },
          "metadata": {
            "tags": []
          }
        }
      ]
    },
    {
      "cell_type": "code",
      "metadata": {
        "id": "LPtHek0eBTr1",
        "colab_type": "code",
        "outputId": "27c3e858-31a5-47cc-a049-6d02e14be74d",
        "colab": {
          "base_uri": "https://localhost:8080/",
          "height": 285
        }
      },
      "source": [
        "%matplotlib inline\n",
        "import matplotlib.pyplot as plt\n",
        "import numpy as np\n",
        "import pandas as pd\n",
        "\n",
        "plt.style.use('fivethirtyeight')\n",
        "\n",
        "fake = pd.Series([38, 3, 2, 1, 2, 4, 6, 5, 5, 33],\n",
        "                 index=range(1,11))\n",
        "\n",
        "fake.plot.bar(color='C1', width=0.9);"
      ],
      "execution_count": 3,
      "outputs": [
        {
          "output_type": "display_data",
          "data": {
            "image/png": "[encoded data removed]",
            "text/plain": [
              "<Figure size 432x288 with 1 Axes>"
            ]
          },
          "metadata": {
            "tags": []
          }
        }
      ]
    },
    {
      "cell_type": "code",
      "metadata": {
        "id": "m-qeDezJOifK",
        "colab_type": "code",
        "outputId": "2ae6a002-db39-4f1a-c36b-02ccfacba933",
        "colab": {
          "base_uri": "https://localhost:8080/",
          "height": 289
        }
      },
      "source": [
        "fake2 = pd.Series([1, 1, 1, 1, 1, 1, 1, 1, 1, 1, 1, 1, 1, 1, 1, 1, 1, 1, 1, 1, 1, 1, 1, 1,\n",
        "     2, 2, 2, \n",
        "     3, 3, 3,\n",
        "     4, 4,\n",
        "     5, 5, 5,\n",
        "     6, 6, 6, 6,\n",
        "     7, 7, 7, 7, 7,\n",
        "     8, 8, 8, 8,\n",
        "     9, 9, 9, 9, \n",
        "     10, 10, 10, 10, 10, 10, 10, 10, 10, 10, 10, 10, 10, 10, 10, 10, 10, 10])\n",
        "\n",
        "fake2.value_counts().sort_index().plot.bar(color='C1' , width=0.9);"
      ],
      "execution_count": 4,
      "outputs": [
        {
          "output_type": "display_data",
          "data": {
            "image/png": "[encoded data removed]",
            "text/plain": [
              "<Figure size 432x288 with 1 Axes>"
            ]
          },
          "metadata": {
            "tags": []
          }
        }
      ]
    },
    {
      "cell_type": "code",
      "metadata": {
        "id": "5UXC0lPOPKza",
        "colab_type": "code",
        "outputId": "00b7d8f1-bafd-463f-ca64-404907fc6b53",
        "colab": {
          "base_uri": "https://localhost:8080/",
          "height": 355
        }
      },
      "source": [
        "display(example)"
      ],
      "execution_count": 0,
      "outputs": [
        {
          "output_type": "display_data",
          "data": {
            "text/html": [
              "<img src=\"https://fivethirtyeight.com/wp-content/uploads/2017/09/mehtahickey-inconvenient-0830-1.png\" width=\"400\"/>"
            ],
            "text/plain": [
              "<IPython.core.display.Image object>"
            ]
          },
          "metadata": {
            "tags": []
          }
        }
      ]
    },
    {
      "cell_type": "code",
      "metadata": {
        "id": "kF4lT22VxKzm",
        "colab_type": "code",
        "colab": {}
      },
      "source": [
        ""
      ],
      "execution_count": 0,
      "outputs": []
    },
    {
      "cell_type": "code",
      "metadata": {
        "id": "RTHxCqKYSvnU",
        "colab_type": "code",
        "outputId": "768b469d-44d4-40f4-b561-c40c5c69cbfd",
        "colab": {
          "base_uri": "https://localhost:8080/",
          "height": 342
        }
      },
      "source": [
        "# Stylesheet for graph\n",
        "\n",
        "plt.style.use('fivethirtyeight')\n",
        "\n",
        "# Create my figure and axes variables\n",
        "fig, ax = plt.subplots()\n",
        "\n",
        "#Plot, color and shape the bars\n",
        "ax.bar(x=[1,2,3,4,5,6,7,8,9,10], height=fake, color='#ED713A', width=0.9)\n",
        "\n",
        "# Figure Background Color\n",
        "fig.set_facecolor(color=\"None\")\n",
        "\n",
        "# Axes background Color\n",
        "ax.set_facecolor(color='None')\n",
        "\n",
        "# set x ticks\n",
        "\n",
        "ax.set_xticks(range(1,11,1))\n",
        "\n",
        "# set y ticks\n",
        "ax.set_yticks(range(0,50,10))\n",
        "\n",
        "#set y tick labels\n",
        "ax.set_yticklabels([0,10,20,30,\"40%\"], fontsize=9, color= \"#AEAEAE\")\n",
        "\n",
        "ax.set_xticklabels(range(1,11,1), fontsize=9, color=\"#AEAEAE\")\n",
        "\n",
        "#remove left spine\n",
        "ax.spines['left'].set_visible(False)\n",
        "\n",
        "# remove right spine\n",
        "ax.spines['right'].set_visible(False)\n",
        "\n",
        "# x lebel\n",
        "ax.set_xlabel(\"Rating\", fontsize = 10, fontweight = 550)\n",
        "\n",
        "#y lebel\n",
        "ax.set_ylabel(\"Percent of total votes\", fontsize = 9.0, fontweight = 600)\n",
        "\n",
        "# Set Title\n",
        "ax.set_title(\"'An Invconvenient Sequel: Truth To Power' is divisive\", \n",
        "             fontsize=12, x=.37, y=1.15, fontweight='bold')\n",
        "# Subtitle\n",
        "\n",
        "ax.text(s=\"IMDb ratings for the film as of Aug. 29\",\n",
        "        y=44, x=-1.1, fontsize = 12)\n",
        "plt.show()\n"
      ],
      "execution_count": 0,
      "outputs": [
        {
          "output_type": "display_data",
          "data": {
            "image/png": "[encoded data removed]",
            "text/plain": [
              "<Figure size 432x288 with 1 Axes>"
            ]
          },
          "metadata": {
            "tags": []
          }
        }
      ]
    },
    {
      "cell_type": "code",
      "metadata": {
        "id": "O_CUGEAUTub-",
        "colab_type": "code",
        "outputId": "2510fc80-e394-4178-917d-46ca215607e3",
        "colab": {
          "base_uri": "https://localhost:8080/",
          "height": 355
        }
      },
      "source": [
        "display(example)"
      ],
      "execution_count": 6,
      "outputs": [
        {
          "output_type": "display_data",
          "data": {
            "text/html": [
              "<img src=\"https://fivethirtyeight.com/wp-content/uploads/2017/09/mehtahickey-inconvenient-0830-1.png\" width=\"400\"/>"
            ],
            "text/plain": [
              "<IPython.core.display.Image object>"
            ]
          },
          "metadata": {
            "tags": []
          }
        }
      ]
    },
    {
      "cell_type": "code",
      "metadata": {
        "id": "UCL9AgHqgENy",
        "colab_type": "code",
        "outputId": "68502e93-fd34-48eb-dfbf-84cd28926b50",
        "colab": {
          "base_uri": "https://localhost:8080/",
          "height": 329
        }
      },
      "source": [
        "# New\n",
        "from IPython.display import display, Image\n",
        "\n",
        "url = 'https://fivethirtyeight.com/wp-content/uploads/2015/08/barryjester-datalab-legchart.png?w=575'\n",
        "New = Image(url=url, width=400)\n",
        "\n",
        "display(New)"
      ],
      "execution_count": 7,
      "outputs": [
        {
          "output_type": "display_data",
          "data": {
            "text/html": [
              "<img src=\"https://fivethirtyeight.com/wp-content/uploads/2015/08/barryjester-datalab-legchart.png?w=575\" width=\"400\"/>"
            ],
            "text/plain": [
              "<IPython.core.display.Image object>"
            ]
          },
          "metadata": {
            "tags": []
          }
        }
      ]
    },
    {
      "cell_type": "code",
      "metadata": {
        "id": "zjPoPIifxq--",
        "colab_type": "code",
        "outputId": "44c59b8e-1e33-4c82-fdc6-06443d0b9d51",
        "colab": {
          "base_uri": "https://localhost:8080/",
          "height": 352
        }
      },
      "source": [
        "%matplotlib inline\n",
        "import matplotlib.pyplot as plt\n",
        "import numpy as np\n",
        "import pandas as pd\n",
        "\n",
        "fake3 = pd.Series([1,3,1,2,3,2,1,2,2,6,6,3,4,5,4,9,6,6,8,8,6,4,3,1,1,1,1,0,0,0,0,0,0],\n",
        "                 index=range(1,34))\n",
        "\n",
        "\n",
        "\n",
        "# Stylesheet for graph\n",
        "\n",
        "plt.style.use('fivethirtyeight')\n",
        "\n",
        "# Create my figure and axes variables\n",
        "fig, ax = plt.subplots()\n",
        "\n",
        "#Plot, color and shape the bars\n",
        "ax.bar(x=[1,2,3,4,5,6,7,8,9,10,11,12,13,14,15,16,17,18,19,20,21,22,23,24,25,26,27,28,29,30,31,32,33], height=fake3, color='#191970', width=0.9)\n",
        "\n",
        "# Figure Background Color\n",
        "fig.set_facecolor(color=\"None\")\n",
        "\n",
        "# Axes background Color\n",
        "ax.set_facecolor(color='White')\n",
        "\n",
        "# set y ticks\n",
        "ax.set_yticks(range(0,10,1))\n",
        "\n",
        "#set y tick labels\n",
        "ax.set_yticklabels([0,1,2,3,4,5,6,7,8,9], fontsize=9, color= \"Black\")\n",
        "#Removing gridline\n",
        "ax.grid(False)\n",
        "# Set Title\n",
        "\n",
        "ax.set_title(\"Legionellosis Cluster in the South Bronx\", \n",
        "             fontsize=15, y=1.15, fontweight='bold')\n",
        "# Set Subtitle\n",
        "\n",
        "ax.text(s='07/08/2015 - 0810/2015, by day', x=10, y=10.5, color='black', fontsize=9)\n",
        "\n",
        "#Set another subtitle\n",
        "\n",
        "ax.text(s='Last updated 08/10/2015', x=12, y=10, color='black', fontsize=9)\n",
        "\n",
        "# x label\n",
        "ax.set_xlabel('Onset Data', color='Black', fontsize=12, fontweight='bold')\n",
        "\n",
        "#ax.set_xlabel('Information in this report is preliminary Onset Data may not yet be reported', color='Black', fontsize=5, x = .5, y = -10)\n",
        "plt.show()"
      ],
      "execution_count": 18,
      "outputs": [
        {
          "output_type": "display_data",
          "data": {
            "image/png": "[encoded data removed]",
            "text/plain": [
              "<Figure size 432x288 with 1 Axes>"
            ]
          },
          "metadata": {
            "tags": []
          }
        }
      ]
    },
    {
      "cell_type": "code",
      "metadata": {
        "id": "wdYFyz1j0KKj",
        "colab_type": "code",
        "colab": {}
      },
      "source": [
        ""
      ],
      "execution_count": 0,
      "outputs": []
    },
    {
      "cell_type": "markdown",
      "metadata": {
        "id": "0wSrBzmJyWaV",
        "colab_type": "text"
      },
      "source": [
        "# STRETCH OPTIONS\n",
        "\n",
        "### 1) Reproduce one of the following using the matplotlib or seaborn libraries:\n",
        "\n",
        "- [thanksgiving-2015](https://fivethirtyeight.com/features/heres-what-your-part-of-america-eats-on-thanksgiving/) \n",
        "- [candy-power-ranking](https://fivethirtyeight.com/features/the-ultimate-halloween-candy-power-ranking/) \n",
        "- or another example of your choice!\n",
        "\n",
        "### 2) Make more charts!\n",
        "\n",
        "Choose a chart you want to make, from [Visual Vocabulary - Vega Edition](http://ft.com/vocabulary).\n",
        "\n",
        "Find the chart in an example gallery of a Python data visualization library:\n",
        "- [Seaborn](http://seaborn.pydata.org/examples/index.html)\n",
        "- [Altair](https://altair-viz.github.io/gallery/index.html)\n",
        "- [Matplotlib](https://matplotlib.org/gallery.html)\n",
        "- [Pandas](https://pandas.pydata.org/pandas-docs/stable/visualization.html)\n",
        "\n",
        "Reproduce the chart. [Optionally, try the \"Ben Franklin Method.\"](https://docs.google.com/document/d/1ubOw9B3Hfip27hF2ZFnW3a3z9xAgrUDRReOEo-FHCVs/edit) If you want, experiment and make changes.\n",
        "\n",
        "Take notes. Consider sharing your work with your cohort!"
      ]
    },
    {
      "cell_type": "code",
      "metadata": {
        "id": "dRJkKftiy5BJ",
        "colab_type": "code",
        "colab": {}
      },
      "source": [
        "# More Work Here"
      ],
      "execution_count": 0,
      "outputs": []
    }
  ]
}